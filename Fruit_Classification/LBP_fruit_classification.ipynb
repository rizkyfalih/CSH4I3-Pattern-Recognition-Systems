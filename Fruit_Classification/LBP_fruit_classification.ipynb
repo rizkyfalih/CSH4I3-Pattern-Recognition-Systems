{
  "nbformat": 4,
  "nbformat_minor": 0,
  "metadata": {
    "colab": {
      "name": "LBP_fruit_classification.ipynb",
      "version": "0.3.2",
      "provenance": [],
      "collapsed_sections": [],
      "toc_visible": true
    },
    "kernelspec": {
      "name": "python3",
      "display_name": "Python 3"
    },
    "accelerator": "GPU"
  },
  "cells": [
    {
      "metadata": {
        "id": "mCyC9olrG7O9",
        "colab_type": "text"
      },
      "cell_type": "markdown",
      "source": [
        "#Fruit Classification using Random Forest with LBP and Haralick Algorithm on Feature Extraction\n",
        "\n",
        "Create by **Raden Rizky Falih P**\n",
        "<br>NIM **1301154211**"
      ]
    },
    {
      "metadata": {
        "id": "5wHZT_eoHqTn",
        "colab_type": "text"
      },
      "cell_type": "markdown",
      "source": [
        "## Load dataset from my drive"
      ]
    },
    {
      "metadata": {
        "id": "sF9qsDautXfB",
        "colab_type": "code",
        "colab": {
          "base_uri": "https://localhost:8080/",
          "height": 54
        },
        "outputId": "c9f39093-d6ca-4842-f2c3-7c3d9890a82b"
      },
      "cell_type": "code",
      "source": [
        "from google.colab import drive\n",
        "drive.mount('/content/gdrive')"
      ],
      "execution_count": 6,
      "outputs": [
        {
          "output_type": "stream",
          "text": [
            "Drive already mounted at /content/gdrive; to attempt to forcibly remount, call drive.mount(\"/content/gdrive\", force_remount=True).\n"
          ],
          "name": "stdout"
        }
      ]
    },
    {
      "metadata": {
        "id": "kgptXM_SH86L",
        "colab_type": "text"
      },
      "cell_type": "markdown",
      "source": [
        "## Random Forest with LBP on Feature Extraction"
      ]
    },
    {
      "metadata": {
        "id": "uG2zXpGyH4r8",
        "colab_type": "text"
      },
      "cell_type": "markdown",
      "source": [
        "### Intialize Local Binary Pattern Class"
      ]
    },
    {
      "metadata": {
        "id": "JVqdtATnAZIN",
        "colab_type": "code",
        "colab": {}
      },
      "cell_type": "code",
      "source": [
        "# import the necessary packages\n",
        "from skimage import feature\n",
        "import numpy as np\n",
        " \n",
        "class LocalBinaryPatterns:\n",
        "\tdef __init__(self, numPoints, radius):\n",
        "\t\t# store the number of points and radius\n",
        "\t\tself.numPoints = numPoints\n",
        "\t\tself.radius = radius\n",
        " \n",
        "\tdef describe(self, image, eps=1e-7):\n",
        "\t\t# compute the Local Binary Pattern representation\n",
        "\t\t# of the image, and then use the LBP representation\n",
        "\t\t# to build the histogram of patterns\n",
        "\t\tlbp = feature.local_binary_pattern(image, self.numPoints,\n",
        "\t\t\tself.radius, method=\"uniform\")\n",
        "\t\t(hist, _) = np.histogram(lbp.ravel(),\n",
        "\t\t\tbins=np.arange(0, self.numPoints + 3),\n",
        "\t\t\trange=(0, self.numPoints + 2))\n",
        " \n",
        "\t\t# normalize the histogram\n",
        "\t\thist = hist.astype(\"float\")\n",
        "\t\thist /= (hist.sum() + eps)\n",
        " \n",
        "\t\t# return the histogram of Local Binary Patterns\n",
        "\t\treturn hist"
      ],
      "execution_count": 0,
      "outputs": []
    },
    {
      "metadata": {
        "id": "JgLPb7jEIVcU",
        "colab_type": "text"
      },
      "cell_type": "markdown",
      "source": [
        "### Initialize the data path and some variables to save the data"
      ]
    },
    {
      "metadata": {
        "id": "_pLrEyUHa4Vg",
        "colab_type": "code",
        "colab": {}
      },
      "cell_type": "code",
      "source": [
        "# import the necessary packages\n",
        "from sklearn.ensemble import RandomForestClassifier\n",
        "import argparse\n",
        "import cv2\n",
        "import os\n",
        "import numpy as np\n",
        "import pickle\n",
        "\n",
        " \n",
        "# initialize the local binary patterns descriptor along with\n",
        "# the data and label lists\n",
        "desc = LocalBinaryPatterns(26, 8)\n",
        "data = []\n",
        "labels = []\n",
        "\n",
        "# path for data training\n",
        "# path for apple\n",
        "apple1 = 'gdrive/My Drive/dataset/fruit/apple_1/'\n",
        "apple3 = 'gdrive/My Drive/dataset/fruit/apple_3/'\n",
        "apple4 = 'gdrive/My Drive/dataset/fruit/apple_4/'\n",
        "apple5 = 'gdrive/My Drive/dataset/fruit/apple_5/'\n",
        "\n",
        "# path for banana\n",
        "banana1 = 'gdrive/My Drive/dataset/fruit/banana_1/'\n",
        "banana3 = 'gdrive/My Drive/dataset/fruit/banana_3/'\n",
        "banana4 = 'gdrive/My Drive/dataset/fruit/banana_4/'\n",
        "\n",
        "# path for lemon\n",
        "lemon1 = 'gdrive/My Drive/dataset/fruit/lemon_1/'\n",
        "lemon3 = 'gdrive/My Drive/dataset/fruit/lemon_3/'\n",
        "lemon4 = 'gdrive/My Drive/dataset/fruit/lemon_4/'\n",
        "lemon5 = 'gdrive/My Drive/dataset/fruit/lemon_5/'\n",
        "lemon6 = 'gdrive/My Drive/dataset/fruit/lemon_6/'\n",
        "\n",
        "# path for lime\n",
        "lime1 = 'gdrive/My Drive/dataset/fruit/lime_1/'\n",
        "lime3 = 'gdrive/My Drive/dataset/fruit/lime_3/'\n",
        "lime4 = 'gdrive/My Drive/dataset/fruit/lime_4/'\n",
        "\n",
        "# path for orange\n",
        "orange1 = 'gdrive/My Drive/dataset/fruit/orange_1/'\n",
        "orange3 = 'gdrive/My Drive/dataset/fruit/orange_3/'\n",
        "orange4 = 'gdrive/My Drive/dataset/fruit/orange_4/'\n",
        "\n",
        "# path for peach\n",
        "peach1 = 'gdrive/My Drive/dataset/fruit/peach_1/'\n",
        "peach3 = 'gdrive/My Drive/dataset/fruit/peach_3/'\n",
        "\n",
        "# path for pear\n",
        "pear1 = 'gdrive/My Drive/dataset/fruit/pear_1/'\n",
        "pear3 = 'gdrive/My Drive/dataset/fruit/pear_3/'\n",
        "pear4 = 'gdrive/My Drive/dataset/fruit/pear_4/'\n",
        "pear7 = 'gdrive/My Drive/dataset/fruit/pear_7/'\n",
        "pear8 = 'gdrive/My Drive/dataset/fruit/pear_8/'\n",
        "\n",
        "# path for data testing\n",
        "apple2 = 'gdrive/My Drive/dataset/fruit/apple_2/'\n",
        "banana2 = 'gdrive/My Drive/dataset/fruit/banana_2/'\n",
        "lemon2 = 'gdrive/My Drive/dataset/fruit/lemon_2/'\n",
        "lime2 = 'gdrive/My Drive/dataset/fruit/lime_2/'\n",
        "orange2 = 'gdrive/My Drive/dataset/fruit/orange_2/'\n",
        "peach2 = 'gdrive/My Drive/dataset/fruit/peach_2/'\n",
        "pear2 = 'gdrive/My Drive/dataset/fruit/pear_2/'"
      ],
      "execution_count": 0,
      "outputs": []
    },
    {
      "metadata": {
        "id": "5TFQKGwGIx-E",
        "colab_type": "text"
      },
      "cell_type": "markdown",
      "source": [
        "### Get The Data and Extract Feature of Data using LBP"
      ]
    },
    {
      "metadata": {
        "id": "YiitzrpDbI-x",
        "colab_type": "code",
        "colab": {}
      },
      "cell_type": "code",
      "source": [
        "# loop over the training images\n",
        "# loop for apple datasets\n",
        "for fld, f in enumerate(os.listdir(apple1)):\n",
        "    image= cv2.imread(apple1+f)\n",
        "    gray = cv2.cvtColor(image, cv2.COLOR_BGR2GRAY)\n",
        "    hist = desc.describe(gray)\n",
        "    \n",
        "    labels.append('apple')\n",
        "    data.append(hist)\n",
        "\n",
        "for fld, f in enumerate(os.listdir(apple2)):\n",
        "    image= cv2.imread(apple2+f)\n",
        "    gray = cv2.cvtColor(image, cv2.COLOR_BGR2GRAY)\n",
        "    hist = desc.describe(gray)\n",
        "    \n",
        "    labels.append('apple')\n",
        "    data.append(hist)\n",
        "\n",
        "for fld, f in enumerate(os.listdir(apple3)):\n",
        "    image= cv2.imread(apple3+f)\n",
        "    gray = cv2.cvtColor(image, cv2.COLOR_BGR2GRAY)\n",
        "    hist = desc.describe(gray)\n",
        "    \n",
        "    labels.append('apple')\n",
        "    data.append(hist)\n",
        "    \n",
        "for fld, f in enumerate(os.listdir(apple4)):\n",
        "    image= cv2.imread(apple4+f)\n",
        "    gray = cv2.cvtColor(image, cv2.COLOR_BGR2GRAY)\n",
        "    hist = desc.describe(gray)\n",
        "    \n",
        "    labels.append('apple')\n",
        "    data.append(hist)\n",
        "    \n",
        "for fld, f in enumerate(os.listdir(apple5)):\n",
        "    image= cv2.imread(apple5+f)\n",
        "    gray = cv2.cvtColor(image, cv2.COLOR_BGR2GRAY)\n",
        "    hist = desc.describe(gray)\n",
        "    \n",
        "    labels.append('apple')\n",
        "    data.append(hist)\n",
        "    \n",
        "# loop for banana datasets\n",
        "for fld, f in enumerate(os.listdir(banana1)):\n",
        "    image= cv2.imread(banana1+f)\n",
        "    gray = cv2.cvtColor(image, cv2.COLOR_BGR2GRAY)\n",
        "    hist = desc.describe(gray)\n",
        "    \n",
        "    labels.append('banana')\n",
        "    data.append(hist)\n",
        "    \n",
        "for fld, f in enumerate(os.listdir(banana2)):\n",
        "    image= cv2.imread(banana2+f)\n",
        "    gray = cv2.cvtColor(image, cv2.COLOR_BGR2GRAY)\n",
        "    hist = desc.describe(gray)\n",
        "    \n",
        "    labels.append('banana')\n",
        "    data.append(hist)\n",
        "    \n",
        "for fld, f in enumerate(os.listdir(banana3)):\n",
        "    image= cv2.imread(banana3+f)\n",
        "    gray = cv2.cvtColor(image, cv2.COLOR_BGR2GRAY)\n",
        "    hist = desc.describe(gray)\n",
        "    \n",
        "    labels.append('banana')\n",
        "    data.append(hist)\n",
        "    \n",
        "for fld, f in enumerate(os.listdir(banana4)):\n",
        "    image= cv2.imread(banana4+f)\n",
        "    gray = cv2.cvtColor(image, cv2.COLOR_BGR2GRAY)\n",
        "    hist = desc.describe(gray)\n",
        "    \n",
        "    labels.append('banana')\n",
        "    data.append(hist)\n",
        "\n",
        "# loop for lemon datasets\n",
        "for fld, f in enumerate(os.listdir(lemon1)):\n",
        "    image= cv2.imread(lemon1+f)\n",
        "    gray = cv2.cvtColor(image, cv2.COLOR_BGR2GRAY)\n",
        "    hist = desc.describe(gray)\n",
        "    \n",
        "    labels.append('lemon')\n",
        "    data.append(hist)\n",
        "\n",
        "for fld, f in enumerate(os.listdir(lemon2)):\n",
        "    image= cv2.imread(lemon2+f)\n",
        "    gray = cv2.cvtColor(image, cv2.COLOR_BGR2GRAY)\n",
        "    hist = desc.describe(gray)\n",
        "    \n",
        "    labels.append('lemon')\n",
        "    data.append(hist)  \n",
        "\n",
        "for fld, f in enumerate(os.listdir(lemon3)):\n",
        "    image= cv2.imread(lemon3+f)\n",
        "    gray = cv2.cvtColor(image, cv2.COLOR_BGR2GRAY)\n",
        "    hist = desc.describe(gray)\n",
        "    \n",
        "    labels.append('lemon')\n",
        "    data.append(hist)  \n",
        "    \n",
        "for fld, f in enumerate(os.listdir(lemon4)):\n",
        "    image= cv2.imread(lemon4+f)\n",
        "    gray = cv2.cvtColor(image, cv2.COLOR_BGR2GRAY)\n",
        "    hist = desc.describe(gray)\n",
        "    \n",
        "    labels.append('lemon')\n",
        "    data.append(hist) \n",
        "    \n",
        "for fld, f in enumerate(os.listdir(lemon5)):\n",
        "    image= cv2.imread(lemon5+f)\n",
        "    gray = cv2.cvtColor(image, cv2.COLOR_BGR2GRAY)\n",
        "    hist = desc.describe(gray)\n",
        "    \n",
        "    labels.append('lemon')\n",
        "    data.append(hist) \n",
        "    \n",
        "for fld, f in enumerate(os.listdir(lemon6)):\n",
        "    image= cv2.imread(lemon6+f)\n",
        "    gray = cv2.cvtColor(image, cv2.COLOR_BGR2GRAY)\n",
        "    hist = desc.describe(gray)\n",
        "    \n",
        "    labels.append('lemon')\n",
        "    data.append(hist)\n",
        "    \n",
        "# loop for lime datasets\n",
        "for fld, f in enumerate(os.listdir(lime1)):\n",
        "    image= cv2.imread(lime1+f)\n",
        "    gray = cv2.cvtColor(image, cv2.COLOR_BGR2GRAY)\n",
        "    hist = desc.describe(gray)\n",
        "    \n",
        "    labels.append('lime')\n",
        "    data.append(hist)\n",
        "    \n",
        "for fld, f in enumerate(os.listdir(lime2)):\n",
        "    image= cv2.imread(lime2+f)\n",
        "    gray = cv2.cvtColor(image, cv2.COLOR_BGR2GRAY)\n",
        "    hist = desc.describe(gray)\n",
        "    \n",
        "    labels.append('lime')\n",
        "    data.append(hist)\n",
        "    \n",
        "for fld, f in enumerate(os.listdir(lime3)):\n",
        "    image= cv2.imread(lime3+f)\n",
        "    gray = cv2.cvtColor(image, cv2.COLOR_BGR2GRAY)\n",
        "    hist = desc.describe(gray)\n",
        "    \n",
        "    labels.append('lime')\n",
        "    data.append(hist)\n",
        "    \n",
        "for fld, f in enumerate(os.listdir(lime4)):\n",
        "    image= cv2.imread(lime4+f)\n",
        "    gray = cv2.cvtColor(image, cv2.COLOR_BGR2GRAY)\n",
        "    hist = desc.describe(gray)\n",
        "    \n",
        "    labels.append('lime')\n",
        "    data.append(hist)\n",
        "\n",
        "# loop for orange datasets\n",
        "for fld, f in enumerate(os.listdir(orange1)):\n",
        "    image= cv2.imread(orange1+f)\n",
        "    gray = cv2.cvtColor(image, cv2.COLOR_BGR2GRAY)\n",
        "    hist = desc.describe(gray)\n",
        "    \n",
        "    labels.append('orange')\n",
        "    data.append(hist)\n",
        "    \n",
        "for fld, f in enumerate(os.listdir(orange2)):\n",
        "    image= cv2.imread(orange2+f)\n",
        "    gray = cv2.cvtColor(image, cv2.COLOR_BGR2GRAY)\n",
        "    hist = desc.describe(gray)\n",
        "    \n",
        "    labels.append('orange')\n",
        "    data.append(hist)\n",
        "    \n",
        "for fld, f in enumerate(os.listdir(orange3)):\n",
        "    image= cv2.imread(orange3+f)\n",
        "    gray = cv2.cvtColor(image, cv2.COLOR_BGR2GRAY)\n",
        "    hist = desc.describe(gray)\n",
        "    \n",
        "    labels.append('orange')\n",
        "    data.append(hist)\n",
        "    \n",
        "for fld, f in enumerate(os.listdir(orange4)):\n",
        "    image= cv2.imread(orange4+f)\n",
        "    gray = cv2.cvtColor(image, cv2.COLOR_BGR2GRAY)\n",
        "    hist = desc.describe(gray)\n",
        "    \n",
        "    labels.append('orange')\n",
        "    data.append(hist)\n",
        "\n",
        "# loop for peach datasets\n",
        "for fld, f in enumerate(os.listdir(peach1)):\n",
        "    image= cv2.imread(peach1+f)\n",
        "    gray = cv2.cvtColor(image, cv2.COLOR_BGR2GRAY)\n",
        "    hist = desc.describe(gray)\n",
        "    \n",
        "    labels.append('peach')\n",
        "    data.append(hist)\n",
        "    \n",
        "for fld, f in enumerate(os.listdir(peach2)):\n",
        "    image= cv2.imread(peach2+f)\n",
        "    gray = cv2.cvtColor(image, cv2.COLOR_BGR2GRAY)\n",
        "    hist = desc.describe(gray)\n",
        "    \n",
        "    labels.append('peach')\n",
        "    data.append(hist)\n",
        "    \n",
        "for fld, f in enumerate(os.listdir(peach3)):\n",
        "    image= cv2.imread(peach3+f)\n",
        "    gray = cv2.cvtColor(image, cv2.COLOR_BGR2GRAY)\n",
        "    hist = desc.describe(gray)\n",
        "    \n",
        "    labels.append('peach')\n",
        "    data.append(hist)\n",
        "\n",
        "# loop for pear datasets\n",
        "for fld, f in enumerate(os.listdir(pear1)):\n",
        "    image= cv2.imread(pear1+f)\n",
        "    gray = cv2.cvtColor(image, cv2.COLOR_BGR2GRAY)\n",
        "    hist = desc.describe(gray)\n",
        "    \n",
        "    labels.append('pear')\n",
        "    data.append(hist)\n",
        "    \n",
        "for fld, f in enumerate(os.listdir(pear2)):\n",
        "    image= cv2.imread(pear2+f)\n",
        "    gray = cv2.cvtColor(image, cv2.COLOR_BGR2GRAY)\n",
        "    hist = desc.describe(gray)\n",
        "    \n",
        "    labels.append('pear')\n",
        "    data.append(hist)\n",
        "    \n",
        "for fld, f in enumerate(os.listdir(pear3)):\n",
        "    image= cv2.imread(pear3+f)\n",
        "    gray = cv2.cvtColor(image, cv2.COLOR_BGR2GRAY)\n",
        "    hist = desc.describe(gray)\n",
        "    \n",
        "    labels.append('pear')\n",
        "    data.append(hist)\n",
        "    \n",
        "for fld, f in enumerate(os.listdir(pear4)):\n",
        "    image= cv2.imread(pear4+f)\n",
        "    gray = cv2.cvtColor(image, cv2.COLOR_BGR2GRAY)\n",
        "    hist = desc.describe(gray)\n",
        "    \n",
        "    labels.append('pear')\n",
        "    data.append(hist)\n",
        "    \n",
        "for fld, f in enumerate(os.listdir(pear7)):\n",
        "    image= cv2.imread(pear7+f)\n",
        "    gray = cv2.cvtColor(image, cv2.COLOR_BGR2GRAY)\n",
        "    hist = desc.describe(gray)\n",
        "    \n",
        "    labels.append('pear')\n",
        "    data.append(hist)\n",
        "    \n",
        "for fld, f in enumerate(os.listdir(pear8)):\n",
        "    image= cv2.imread(pear8+f)\n",
        "    gray = cv2.cvtColor(image, cv2.COLOR_BGR2GRAY)\n",
        "    hist = desc.describe(gray)\n",
        "    \n",
        "    labels.append('pear')\n",
        "    data.append(hist)  "
      ],
      "execution_count": 0,
      "outputs": []
    },
    {
      "metadata": {
        "id": "CC-h9LRXAZZP",
        "colab_type": "text"
      },
      "cell_type": "markdown",
      "source": [
        "### Split the data"
      ]
    },
    {
      "metadata": {
        "id": "jM4ShEVNm-Al",
        "colab_type": "code",
        "colab": {}
      },
      "cell_type": "code",
      "source": [
        "from sklearn.model_selection import train_test_split\n",
        "\n",
        "X_train, X_test, y_train, y_test = train_test_split(data, labels, test_size=0.2, random_state=42)"
      ],
      "execution_count": 0,
      "outputs": []
    },
    {
      "metadata": {
        "id": "u6f34eJDAcvU",
        "colab_type": "text"
      },
      "cell_type": "markdown",
      "source": [
        "### Train the data and build a model"
      ]
    },
    {
      "metadata": {
        "id": "gg7mQ8Nim84x",
        "colab_type": "code",
        "colab": {}
      },
      "cell_type": "code",
      "source": [
        "# build a model\n",
        "model = RandomForestClassifier(n_estimators=12, n_jobs=-1)\n",
        "model.fit(X_train,y_train)\n",
        "\n",
        "# save the model\n",
        "filename = 'model_lbp.sav'\n",
        "pickle.dump(model, open(filename, 'wb'))"
      ],
      "execution_count": 0,
      "outputs": []
    },
    {
      "metadata": {
        "id": "p5vF5zcBJYS_",
        "colab_type": "text"
      },
      "cell_type": "markdown",
      "source": [
        "### Testing the data with the model that I was made"
      ]
    },
    {
      "metadata": {
        "id": "Q9wdAGL44Am2",
        "colab_type": "code",
        "colab": {
          "base_uri": "https://localhost:8080/",
          "height": 51
        },
        "outputId": "adeb5e98-e3e6-4425-efa7-078181a976e6"
      },
      "cell_type": "code",
      "source": [
        "# load model\n",
        "clf = pickle.load(open('model_lbp.sav', 'rb'))\n",
        "\n",
        "y_pred = clf.predict(X_test)\n",
        "y_pred"
      ],
      "execution_count": 36,
      "outputs": [
        {
          "output_type": "execute_result",
          "data": {
            "text/plain": [
              "array(['orange', 'banana', 'lime', ..., 'orange', 'pear', 'banana'],\n",
              "      dtype='<U6')"
            ]
          },
          "metadata": {
            "tags": []
          },
          "execution_count": 36
        }
      ]
    },
    {
      "metadata": {
        "id": "xSEopp75JlIM",
        "colab_type": "text"
      },
      "cell_type": "markdown",
      "source": [
        "### Getting accuracy of testing and training"
      ]
    },
    {
      "metadata": {
        "id": "hnLxKasL4U-5",
        "colab_type": "code",
        "colab": {
          "base_uri": "https://localhost:8080/",
          "height": 51
        },
        "outputId": "92890daa-56b2-40cb-e3af-9bc0e61c9641"
      },
      "cell_type": "code",
      "source": [
        "acc_test = clf.score(X_test, y_test)\n",
        "print(\"Accuracy testing: \",acc_test)\n",
        "\n",
        "acc_train = clf.score(X_train, y_train)\n",
        "print(\"Accuracy training: \",acc_train)"
      ],
      "execution_count": 39,
      "outputs": [
        {
          "output_type": "stream",
          "text": [
            "Accuracy testing:  0.9264827018121911\n",
            "Accuracy training:  0.9996910878854965\n"
          ],
          "name": "stdout"
        }
      ]
    }
  ]
}