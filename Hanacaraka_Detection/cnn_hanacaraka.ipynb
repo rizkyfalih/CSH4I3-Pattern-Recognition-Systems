{
  "nbformat": 4,
  "nbformat_minor": 0,
  "metadata": {
    "colab": {
      "name": "cnn_hanacaraka.ipynb",
      "version": "0.3.2",
      "provenance": [],
      "collapsed_sections": [],
      "toc_visible": true
    },
    "kernelspec": {
      "name": "python3",
      "display_name": "Python 3"
    },
    "accelerator": "GPU"
  },
  "cells": [
    {
      "metadata": {
        "id": "AHZ1M5GtBwtU",
        "colab_type": "code",
        "outputId": "c912ec10-856f-42a2-cd2f-bdb94c419337",
        "colab": {
          "base_uri": "https://localhost:8080/",
          "height": 122
        }
      },
      "cell_type": "code",
      "source": [
        "from google.colab import drive\n",
        "drive.mount('/content/gdrive')"
      ],
      "execution_count": 2,
      "outputs": [
        {
          "output_type": "stream",
          "text": [
            "Go to this URL in a browser: https://accounts.google.com/o/oauth2/auth?client_id=947318989803-6bn6qk8qdgf4n4g3pfee6491hc0brc4i.apps.googleusercontent.com&redirect_uri=urn%3Aietf%3Awg%3Aoauth%3A2.0%3Aoob&scope=email%20https%3A%2F%2Fwww.googleapis.com%2Fauth%2Fdocs.test%20https%3A%2F%2Fwww.googleapis.com%2Fauth%2Fdrive%20https%3A%2F%2Fwww.googleapis.com%2Fauth%2Fdrive.photos.readonly%20https%3A%2F%2Fwww.googleapis.com%2Fauth%2Fpeopleapi.readonly&response_type=code\n",
            "\n",
            "Enter your authorization code:\n",
            "··········\n",
            "Mounted at /content/gdrive\n"
          ],
          "name": "stdout"
        }
      ]
    },
    {
      "metadata": {
        "colab_type": "text",
        "id": "i6H04wdh5QfO"
      },
      "cell_type": "markdown",
      "source": [
        "# Import dependencies"
      ]
    },
    {
      "metadata": {
        "colab_type": "code",
        "id": "guUyTDBLzseC",
        "outputId": "edd0151c-5be1-4ce6-e8da-91b400c52fbb",
        "colab": {
          "base_uri": "https://localhost:8080/",
          "height": 34
        }
      },
      "cell_type": "code",
      "source": [
        "from keras.models import Sequential\n",
        "from keras.layers import Dense, Flatten, Conv2D, MaxPooling2D, AveragePooling2D, Dropout, SpatialDropout2D\n",
        "from keras.optimizers import RMSprop\n",
        "from keras.preprocessing import image \n",
        "from keras import backend as K\n",
        "import os\n",
        "import numpy as np\n",
        "from keras.applications.resnet50 import preprocess_input\n",
        "import PIL.ImageOps    \n",
        "from keras.utils import np_utils\n",
        "np.random.seed(23)\n"
      ],
      "execution_count": 3,
      "outputs": [
        {
          "output_type": "stream",
          "text": [
            "Using TensorFlow backend.\n"
          ],
          "name": "stderr"
        }
      ]
    },
    {
      "metadata": {
        "colab_type": "text",
        "id": "5OX6pgFZ5UPv"
      },
      "cell_type": "markdown",
      "source": [
        "# Load the Hanacaraka Dataset\n"
      ]
    },
    {
      "metadata": {
        "colab_type": "code",
        "id": "-pnIt3fjzseN",
        "outputId": "a8192535-f9a8-4618-cc77-01d4e279c824",
        "colab": {
          "base_uri": "https://localhost:8080/",
          "height": 189
        }
      },
      "cell_type": "code",
      "source": [
        "folder = 'gdrive/My Drive/dataset/hanacaraka/'\n",
        "\n",
        "# Settings\n",
        "img_rows, img_cols = 60, 78         \n",
        "nb_classes = 20\n",
        "number_of_data = 5000\n",
        "\n",
        "X_train = []\n",
        "Y_train = []\n",
        "\n",
        "for cl, fld in enumerate(os.listdir(folder)):\n",
        "        for f in os.listdir(folder + fld):\n",
        "                img = image.load_img(folder + fld + '/' + f, grayscale=True, \n",
        "                                     target_size=(img_rows, img_cols))\n",
        "                img = PIL.ImageOps.invert(img)\n",
        "                img = image.img_to_array(img)\n",
        "                X_train.append(img.reshape((img_rows, img_cols, 1)))\n",
        "                Y_train.append(cl)\n",
        "\n",
        "X_train = np.array(X_train)\n",
        "Y_train = np.array(Y_train)\n",
        "\n",
        "shuffled_indices = np.random.permutation(X_train.shape[0])\n",
        "X_train = X_train[shuffled_indices] \n",
        "Y_train = Y_train[shuffled_indices] \n",
        "X_test = X_train[X_train.shape[0]//2:]\n",
        "X_train = X_train[:X_train.shape[0]//2]\n",
        "\n",
        "Y_test = Y_train[Y_train.shape[0]//2:]\n",
        "Y_train = Y_train[:Y_train.shape[0]//2]\n",
        "\n",
        "print('X_train original shape:', X_train.shape)\n",
        "\n",
        "if K.image_dim_ordering() == 'th':\n",
        "    # For Theano backend\n",
        "    X_train = X_train.reshape(X_train.shape[0], 1, img_rows, img_cols)\n",
        "    X_test = X_test.reshape(X_test.shape[0], 1, img_rows, img_cols)\n",
        "    input_shape = (1, img_rows, img_cols)\n",
        "else:\n",
        "    # For TensorFlow backend\n",
        "    X_train = X_train.reshape(X_train.shape[0], img_rows, img_cols, 1)\n",
        "    X_test = X_test.reshape(X_test.shape[0], img_rows, img_cols, 1)\n",
        "    input_shape = (img_rows, img_cols, 1)\n",
        "\n",
        "# Split train test\n",
        "X_train = X_train.astype('float32') / 255.\n",
        "X_test = X_test.astype('float32') / 255.\n",
        "Y_train = np_utils.to_categorical(Y_train, nb_classes)\n",
        "Y_test = np_utils.to_categorical(Y_test, nb_classes)\n",
        "\n",
        "test_data = 1000\n",
        "\n",
        "X_train = X_train[:number_of_data]\n",
        "Y_train = Y_train[:number_of_data]\n",
        "X_test = X_test[:test_data]\n",
        "Y_test = Y_test[:test_data]\n",
        "\n",
        "print('X_train shape:', X_train.shape)\n",
        "print(X_train.shape[0], 'train samples')\n",
        "print(X_test.shape[0], 'test samples')\n",
        "    \n",
        "\n",
        "# Visualize Hanacaraka dataset\n",
        "import matplotlib.pyplot as plt\n",
        "%matplotlib inline\n",
        "\n",
        "n = 10  \n",
        "plt.figure(figsize=(10, 4))\n",
        "for i in range(n):\n",
        "    # display original\n",
        "    ax = plt.subplot(2, n, i + 1)\n",
        "    plt.imshow(X_train[i].reshape(img_rows, img_cols))\n",
        "    plt.gray()\n",
        "    ax.get_xaxis().set_visible(False)\n",
        "    ax.get_yaxis().set_visible(False)\n",
        "plt.show()"
      ],
      "execution_count": 4,
      "outputs": [
        {
          "output_type": "stream",
          "text": [
            "/usr/local/lib/python3.6/dist-packages/keras_preprocessing/image.py:492: UserWarning: grayscale is deprecated. Please use color_mode = \"grayscale\"\n",
            "  warnings.warn('grayscale is deprecated. Please use '\n"
          ],
          "name": "stderr"
        },
        {
          "output_type": "stream",
          "text": [
            "X_train original shape: (5100, 60, 78, 1)\n",
            "X_train shape: (5000, 60, 78, 1)\n",
            "5000 train samples\n",
            "1000 test samples\n"
          ],
          "name": "stdout"
        },
        {
          "output_type": "display_data",
          "data": {
            "image/png": "[encoded data removed]",
            "text/plain": [
              "<matplotlib.figure.Figure at 0x7efe4f6a1be0>"
            ]
          },
          "metadata": {
            "tags": []
          }
        }
      ]
    },
    {
      "metadata": {
        "colab_type": "text",
        "id": "xOt_LvYv6O_b"
      },
      "cell_type": "markdown",
      "source": [
        "# Convolutional Neural Network"
      ]
    },
    {
      "metadata": {
        "colab_type": "text",
        "id": "uaT6lQEK6hVw"
      },
      "cell_type": "markdown",
      "source": [
        "## Build"
      ]
    },
    {
      "metadata": {
        "colab_type": "code",
        "id": "tobvxLB-zseX",
        "outputId": "5286160b-0159-40c4-b078-4705b941f6cc",
        "colab": {
          "base_uri": "https://localhost:8080/",
          "height": 510
        }
      },
      "cell_type": "code",
      "source": [
        "# Settings\n",
        "pool_size = (3, 3)                  # size of pooling area for max pooling\n",
        "prob_drop_conv = 0.25              # drop probability for dropout @ conv layer\n",
        "prob_drop_hidden = 0.3              # drop probability for dropout @ fc layer\n",
        "\n",
        "# Convolutional model\n",
        "model = Sequential()\n",
        "\n",
        "# conv1 layer\n",
        "model.add(Conv2D(8, (3, 3), padding='same', activation='relu', input_shape=input_shape))\n",
        "model.add(MaxPooling2D(pool_size=pool_size, strides=(2,2), padding='same'))\n",
        "\n",
        "# conv2 layer\n",
        "model.add(Conv2D(32, (3, 3), padding='same', activation='relu'))\n",
        "model.add(MaxPooling2D(pool_size=pool_size, strides=(2,2), padding='same'))\n",
        "\n",
        "# conv2 layer\n",
        "model.add(Conv2D(64, (3, 3), padding='same', activation='relu'))\n",
        "model.add(MaxPooling2D(pool_size=pool_size, strides=(2,2), padding='same'))\n",
        "\n",
        "# fc input layer\n",
        "model.add(Flatten())\n",
        "model.add(Dropout(prob_drop_hidden))\n",
        "\n",
        "# fc1 layer\n",
        "model.add(Dense(5120, activation='relu'))\n",
        "model.add(Dropout(prob_drop_hidden))\n",
        "\n",
        "# fc2 layer\n",
        "model.add(Dense(nb_classes, activation='softmax'))\n",
        "\n",
        "model.compile(optimizer='adam', loss='categorical_crossentropy', metrics=['accuracy'])\n",
        "model.summary()"
      ],
      "execution_count": 39,
      "outputs": [
        {
          "output_type": "stream",
          "text": [
            "_________________________________________________________________\n",
            "Layer (type)                 Output Shape              Param #   \n",
            "=================================================================\n",
            "conv2d_7 (Conv2D)            (None, 60, 78, 8)         80        \n",
            "_________________________________________________________________\n",
            "max_pooling2d_7 (MaxPooling2 (None, 30, 39, 8)         0         \n",
            "_________________________________________________________________\n",
            "conv2d_8 (Conv2D)            (None, 30, 39, 32)        2336      \n",
            "_________________________________________________________________\n",
            "max_pooling2d_8 (MaxPooling2 (None, 15, 20, 32)        0         \n",
            "_________________________________________________________________\n",
            "conv2d_9 (Conv2D)            (None, 15, 20, 64)        18496     \n",
            "_________________________________________________________________\n",
            "max_pooling2d_9 (MaxPooling2 (None, 8, 10, 64)         0         \n",
            "_________________________________________________________________\n",
            "flatten_3 (Flatten)          (None, 5120)              0         \n",
            "_________________________________________________________________\n",
            "dropout_5 (Dropout)          (None, 5120)              0         \n",
            "_________________________________________________________________\n",
            "dense_5 (Dense)              (None, 5120)              26219520  \n",
            "_________________________________________________________________\n",
            "dropout_6 (Dropout)          (None, 5120)              0         \n",
            "_________________________________________________________________\n",
            "dense_6 (Dense)              (None, 20)                102420    \n",
            "=================================================================\n",
            "Total params: 26,342,852\n",
            "Trainable params: 26,342,852\n",
            "Non-trainable params: 0\n",
            "_________________________________________________________________\n"
          ],
          "name": "stdout"
        }
      ]
    },
    {
      "metadata": {
        "colab_type": "text",
        "id": "pjdhi6sg6jpH"
      },
      "cell_type": "markdown",
      "source": [
        "## Train"
      ]
    },
    {
      "metadata": {
        "colab_type": "code",
        "id": "OQCcrF3kzsec",
        "outputId": "de635fca-c65d-491e-affe-c82f848d6849",
        "colab": {
          "base_uri": "https://localhost:8080/",
          "height": 377
        }
      },
      "cell_type": "code",
      "source": [
        "# Settings\n",
        "batch_size = 128\n",
        "epochs = 10\n",
        "\n",
        "# Train\n",
        "history = model.fit(X_train, Y_train, epochs=epochs, batch_size=batch_size, shuffle=True, verbose=1)"
      ],
      "execution_count": 40,
      "outputs": [
        {
          "output_type": "stream",
          "text": [
            "Epoch 1/10\n",
            "5000/5000 [==============================] - 4s 729us/step - loss: 2.2908 - acc: 0.2994\n",
            "Epoch 2/10\n",
            "5000/5000 [==============================] - 3s 508us/step - loss: 1.2280 - acc: 0.6174\n",
            "Epoch 3/10\n",
            "5000/5000 [==============================] - 3s 508us/step - loss: 0.7884 - acc: 0.7640\n",
            "Epoch 4/10\n",
            "5000/5000 [==============================] - 3s 507us/step - loss: 0.4786 - acc: 0.8524\n",
            "Epoch 5/10\n",
            "5000/5000 [==============================] - 3s 512us/step - loss: 0.3266 - acc: 0.9002\n",
            "Epoch 6/10\n",
            "5000/5000 [==============================] - 3s 513us/step - loss: 0.2232 - acc: 0.9328\n",
            "Epoch 7/10\n",
            "5000/5000 [==============================] - 3s 515us/step - loss: 0.1881 - acc: 0.9388\n",
            "Epoch 8/10\n",
            "5000/5000 [==============================] - 3s 511us/step - loss: 0.1551 - acc: 0.9560\n",
            "Epoch 9/10\n",
            "5000/5000 [==============================] - 3s 515us/step - loss: 0.1240 - acc: 0.9624\n",
            "Epoch 10/10\n",
            "5000/5000 [==============================] - 3s 511us/step - loss: 0.0892 - acc: 0.9724\n"
          ],
          "name": "stdout"
        }
      ]
    },
    {
      "metadata": {
        "colab_type": "text",
        "id": "hm9ZQrMp6ndB"
      },
      "cell_type": "markdown",
      "source": [
        "## Evaluate"
      ]
    },
    {
      "metadata": {
        "colab_type": "code",
        "id": "aXnmFiWUzseg",
        "outputId": "3c3a97d3-e0ed-43c6-8447-0ea3dfe449fe",
        "colab": {
          "base_uri": "https://localhost:8080/",
          "height": 51
        }
      },
      "cell_type": "code",
      "source": [
        "evaluation = model.evaluate(X_test, Y_test, batch_size=256, verbose=1)\n",
        "print('Summary: Loss over the test dataset: %.2f, Accuracy: %.2f' % (evaluation[0], evaluation[1]))"
      ],
      "execution_count": 44,
      "outputs": [
        {
          "output_type": "stream",
          "text": [
            "1000/1000 [==============================] - 0s 116us/step\n",
            "Summary: Loss over the test dataset: 0.33, Accuracy: 0.90\n"
          ],
          "name": "stdout"
        }
      ]
    },
    {
      "metadata": {
        "id": "72x42TpS03OV",
        "colab_type": "text"
      },
      "cell_type": "markdown",
      "source": [
        "## Save The model"
      ]
    },
    {
      "metadata": {
        "id": "rPNG4MoB06H8",
        "colab_type": "code",
        "colab": {}
      },
      "cell_type": "code",
      "source": [
        "model.save('hanacaraka_model.h5')"
      ],
      "execution_count": 0,
      "outputs": []
    }
  ]
}