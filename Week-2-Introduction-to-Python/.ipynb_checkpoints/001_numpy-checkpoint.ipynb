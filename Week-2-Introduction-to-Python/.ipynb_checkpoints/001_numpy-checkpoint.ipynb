{
 "cells": [
  {
   "cell_type": "markdown",
   "metadata": {},
   "source": [
    "# Introduction to numpy"
   ]
  },
  {
   "cell_type": "markdown",
   "metadata": {},
   "source": [
    "numpy = numerical python\n",
    "\n",
    "This material is inspired from different source:\n",
    "\n",
    "* https://github.com/SciTools/courses\n",
    "* https://github.com/paris-saclay-cds/python-workshop/blob/master/Day_1_Scientific_Python/01-numpy-introduction.ipynb\n",
    "\n",
    "This notebook was designed by Dr. Guillaume Lemaitre"
   ]
  },
  {
   "cell_type": "markdown",
   "metadata": {},
   "source": [
    "### What is NumPy?\n",
    "\n",
    "* memory-efficient container for multi-dimensional homogeneous (mainly numerical) data (NumPy array)\n",
    "* fast vectorised operations on arrays\n",
    "* library general purpose functions: data reading/writing, linear algebra, FFT etc. \n",
    "* main applications: signal processing, image processing, analysis of raw data from measurment instruments"
   ]
  },
  {
   "cell_type": "markdown",
   "metadata": {},
   "source": [
    "### Difference between python list and numpy array"
   ]
  },
  {
   "cell_type": "markdown",
   "metadata": {},
   "source": [
    "Python offers some data containers to store data. Lists are generally used since they allow for flexibility."
   ]
  },
  {
   "cell_type": "code",
   "execution_count": 1,
   "metadata": {},
   "outputs": [
    {
     "data": {
      "text/plain": [
       "[0, 1, 2, 3, 4, 5, 6, 7, 8, 9]"
      ]
     },
     "execution_count": 1,
     "metadata": {},
     "output_type": "execute_result"
    }
   ],
   "source": [
    "# listcomprehension\n",
    "x = [i for i in range(10)]\n",
    "x"
   ]
  },
  {
   "cell_type": "markdown",
   "metadata": {},
   "source": [
    "At a first glance, numpy array seems to offer the same capabilities."
   ]
  },
  {
   "cell_type": "code",
   "execution_count": 6,
   "metadata": {},
   "outputs": [],
   "source": [
    "import numpy as np"
   ]
  },
  {
   "cell_type": "code",
   "execution_count": 11,
   "metadata": {},
   "outputs": [
    {
     "data": {
      "text/plain": [
       "array([0, 1, 2, 3, 4, 5, 6, 7, 8, 9])"
      ]
     },
     "execution_count": 11,
     "metadata": {},
     "output_type": "execute_result"
    }
   ],
   "source": [
    "x = np.arange(10)\n",
    "x\n",
    "\n",
    "# perhatikan, bahwa muncul term 'array' pada penggunaan np.arange()"
   ]
  },
  {
   "cell_type": "code",
   "execution_count": 12,
   "metadata": {},
   "outputs": [
    {
     "data": {
      "text/plain": [
       "dtype('int32')"
      ]
     },
     "execution_count": 12,
     "metadata": {},
     "output_type": "execute_result"
    }
   ],
   "source": [
    "x.dtype"
   ]
  },
  {
   "cell_type": "code",
   "execution_count": 14,
   "metadata": {},
   "outputs": [
    {
     "data": {
      "text/plain": [
       "array([0, 1, 2, 3, 4, 5, 6, 7, 8, 9], dtype=int64)"
      ]
     },
     "execution_count": 14,
     "metadata": {},
     "output_type": "execute_result"
    }
   ],
   "source": [
    "# mengubah tipe array int ke dalam 64 bit\n",
    "x = np.arange(10, dtype=np.int64)\n",
    "x\n",
    "\n"
   ]
  },
  {
   "cell_type": "markdown",
   "metadata": {},
   "source": [
    "To find the difference, we need to focus on the low-level implementation of these two containers.\n",
    "\n",
    "A python list is a contiguous array in memory containing the references to the stored object. \n",
    "It allows for instance to store different data type object within the same list."
   ]
  },
  {
   "cell_type": "code",
   "execution_count": 15,
   "metadata": {},
   "outputs": [
    {
     "data": {
      "text/plain": [
       "[1, 2.0, 'three']"
      ]
     },
     "execution_count": 15,
     "metadata": {},
     "output_type": "execute_result"
    }
   ],
   "source": [
    "x = [1, 2.0, 'three']\n",
    "x"
   ]
  },
  {
   "cell_type": "code",
   "execution_count": 32,
   "metadata": {},
   "outputs": [
    {
     "data": {
      "text/plain": [
       "array([1, 2.0, 'three'], dtype=object)"
      ]
     },
     "execution_count": 32,
     "metadata": {},
     "output_type": "execute_result"
    }
   ],
   "source": [
    "np.array([1, 2.0, 'three'], dtype =np.object)"
   ]
  },
  {
   "cell_type": "code",
   "execution_count": 18,
   "metadata": {},
   "outputs": [
    {
     "name": "stdout",
     "output_type": "stream",
     "text": [
      "The type of x is: [1, 2.0, 'three']\n",
      "The type of the 0-ith element is\" <class 'int'>\n",
      "The type of the 1-ith element is\" <class 'float'>\n",
      "The type of the 2-ith element is\" <class 'str'>\n"
     ]
    }
   ],
   "source": [
    "print('The type of x is: {}'.format(x))\n",
    "for idx, elt in enumerate(x):\n",
    "    print('The type of the {}-ith element is\" {}'.format(idx, type(elt)))"
   ]
  },
  {
   "cell_type": "markdown",
   "metadata": {},
   "source": [
    "### Numpy arrays, however, are directly storing the typed-data. Therefore, they are not meant to be used with mix type."
   ]
  },
  {
   "cell_type": "code",
   "execution_count": 18,
   "metadata": {},
   "outputs": [
    {
     "name": "stdout",
     "output_type": "stream",
     "text": [
      "The type of x is: <class 'numpy.ndarray'>\n",
      "The data type of x is: int64\n"
     ]
    }
   ],
   "source": [
    "x = np.arange(3)\n",
    "print('The type of x is: {}'.format(type(x)))\n",
    "print('The data type of x is: {}'.format(x.dtype))"
   ]
  },
  {
   "cell_type": "markdown",
   "metadata": {},
   "source": [
    "### Create numpy array"
   ]
  },
  {
   "cell_type": "markdown",
   "metadata": {},
   "source": [
    "Try out some of these ways of creating NumPy arrays. See if you can produce:\n",
    "\n",
    "* a NumPy array from a list of numbers,\n",
    "* a 3-dimensional NumPy array filled with a constant value -- either 0 or 1,\n",
    "* a NumPy array filled with a constant value -- not 0 or 1. (Hint: this can be achieved using the last array you created, or you could use np.empty and find a way of filling the array with a constant value),\n",
    "* a NumPy array of 8 elements with a range of values starting from 0 and a spacing of 3 between each element, and\n",
    "* a NumPy array of 10 elements that are logarithmically spaced.\n"
   ]
  },
  {
   "cell_type": "code",
   "execution_count": 12,
   "metadata": {},
   "outputs": [
    {
     "data": {
      "text/plain": [
       "array([0, 1, 2, 3, 4, 5, 6, 7, 8, 9])"
      ]
     },
     "execution_count": 12,
     "metadata": {},
     "output_type": "execute_result"
    }
   ],
   "source": [
    "y = [0, 1, 2, 3, 4, 5, 6, 7, 8, 9]\n",
    "y_np = np.array(y)\n",
    "y_np\n"
   ]
  },
  {
   "cell_type": "code",
   "execution_count": 23,
   "metadata": {},
   "outputs": [
    {
     "data": {
      "text/plain": [
       "dtype('int64')"
      ]
     },
     "execution_count": 23,
     "metadata": {},
     "output_type": "execute_result"
    }
   ],
   "source": [
    "y_np.dtype"
   ]
  },
  {
   "cell_type": "code",
   "execution_count": 24,
   "metadata": {},
   "outputs": [
    {
     "data": {
      "text/plain": [
       "dtype('float64')"
      ]
     },
     "execution_count": 24,
     "metadata": {},
     "output_type": "execute_result"
    }
   ],
   "source": [
    "y = [0, 1, 2.5, 3, 4, 5, 6, 7, 8, 9]\n",
    "y_np = np.array(y)\n",
    "y_np.dtype"
   ]
  },
  {
   "cell_type": "code",
   "execution_count": 27,
   "metadata": {},
   "outputs": [
    {
     "data": {
      "text/plain": [
       "array([[[0., 0., 0., 0., 0.],\n",
       "        [0., 0., 0., 0., 0.],\n",
       "        [0., 0., 0., 0., 0.]],\n",
       "\n",
       "       [[0., 0., 0., 0., 0.],\n",
       "        [0., 0., 0., 0., 0.],\n",
       "        [0., 0., 0., 0., 0.]]])"
      ]
     },
     "execution_count": 27,
     "metadata": {},
     "output_type": "execute_result"
    }
   ],
   "source": [
    "#a 3-dimensional NumPy array filled with a constant value -- either 0 or 1,\n",
    "X = np.zeros((2,3,5)) # x, y, z\n",
    "X"
   ]
  },
  {
   "cell_type": "code",
   "execution_count": 28,
   "metadata": {},
   "outputs": [
    {
     "data": {
      "text/plain": [
       "(2, 3, 5)"
      ]
     },
     "execution_count": 28,
     "metadata": {},
     "output_type": "execute_result"
    }
   ],
   "source": [
    "X.shape"
   ]
  },
  {
   "cell_type": "code",
   "execution_count": 24,
   "metadata": {},
   "outputs": [
    {
     "data": {
      "text/plain": [
       "array([[[ 3.,  3.,  3.,  3.,  3.],\n",
       "        [ 3.,  3.,  3.,  3.,  3.],\n",
       "        [ 3.,  3.,  3.,  3.,  3.]],\n",
       "\n",
       "       [[ 3.,  3.,  3.,  3.,  3.],\n",
       "        [ 3.,  3.,  3.,  3.,  3.],\n",
       "        [ 3.,  3.,  3.,  3.,  3.]]])"
      ]
     },
     "execution_count": 24,
     "metadata": {},
     "output_type": "execute_result"
    }
   ],
   "source": [
    "# a NumPy array filled with a constant value -- not 0 or 1.\n",
    "X = np.ones((2,3,5)) * 3\n",
    "X"
   ]
  },
  {
   "cell_type": "code",
   "execution_count": 25,
   "metadata": {},
   "outputs": [],
   "source": [
    "for i in range(X.shape[0]):\n",
    "    for j in range(X.shape[1]):\n",
    "        for k in range(X.shape[2]):\n",
    "            X[i,j,k] = 5"
   ]
  },
  {
   "cell_type": "code",
   "execution_count": 26,
   "metadata": {},
   "outputs": [
    {
     "data": {
      "text/plain": [
       "array([[[ 5.,  5.,  5.,  5.,  5.],\n",
       "        [ 5.,  5.,  5.,  5.,  5.],\n",
       "        [ 5.,  5.,  5.,  5.,  5.]],\n",
       "\n",
       "       [[ 5.,  5.,  5.,  5.,  5.],\n",
       "        [ 5.,  5.,  5.,  5.,  5.],\n",
       "        [ 5.,  5.,  5.,  5.,  5.]]])"
      ]
     },
     "execution_count": 26,
     "metadata": {},
     "output_type": "execute_result"
    }
   ],
   "source": [
    "X"
   ]
  },
  {
   "cell_type": "code",
   "execution_count": 33,
   "metadata": {},
   "outputs": [
    {
     "name": "stdout",
     "output_type": "stream",
     "text": [
      "[0 3 6]\n"
     ]
    }
   ],
   "source": [
    "#ambil komponen dari array\n",
    "# start; stop; step\n",
    "y_np3=np.arange(0,8,3)\n",
    "print(y_np3)"
   ]
  },
  {
   "cell_type": "code",
   "execution_count": 34,
   "metadata": {},
   "outputs": [
    {
     "data": {
      "text/plain": [
       "array([ 0.,  1.,  2.,  3.,  4.,  5.,  6.,  7.,  8.,  9.])"
      ]
     },
     "execution_count": 34,
     "metadata": {},
     "output_type": "execute_result"
    }
   ],
   "source": [
    "np.linspace(0, 10, num=10, endpoint = False)"
   ]
  },
  {
   "cell_type": "code",
   "execution_count": 37,
   "metadata": {},
   "outputs": [
    {
     "data": {
      "text/plain": [
       "array([1.e+001, 1.e+012, 1.e+023, 1.e+034, 1.e+045, 1.e+056, 1.e+067,\n",
       "       1.e+078, 1.e+089, 1.e+100])"
      ]
     },
     "execution_count": 37,
     "metadata": {},
     "output_type": "execute_result"
    }
   ],
   "source": [
    "np.logspace(1,100,num=10)"
   ]
  },
  {
   "cell_type": "code",
   "execution_count": 35,
   "metadata": {},
   "outputs": [
    {
     "data": {
      "text/plain": [
       "array([ 1.,  1.,  1.,  1.,  1.,  1.,  1.,  1.])"
      ]
     },
     "execution_count": 35,
     "metadata": {},
     "output_type": "execute_result"
    }
   ],
   "source": [
    "X=np.ones(8)\n",
    "X"
   ]
  },
  {
   "cell_type": "markdown",
   "metadata": {},
   "source": [
    "How could you change the shape of the 8-element array you created previously to have shape (2, 2, 2)? Hint: this can be done without creating a new array."
   ]
  },
  {
   "cell_type": "code",
   "execution_count": 36,
   "metadata": {},
   "outputs": [
    {
     "data": {
      "text/plain": [
       "array([[[ 1.,  1.],\n",
       "        [ 1.,  1.]],\n",
       "\n",
       "       [[ 1.,  1.],\n",
       "        [ 1.,  1.]]])"
      ]
     },
     "execution_count": 36,
     "metadata": {},
     "output_type": "execute_result"
    }
   ],
   "source": [
    "X_new=np.reshape(X, (2,2,2))\n",
    "X_new"
   ]
  },
  {
   "cell_type": "markdown",
   "metadata": {},
   "source": [
    "### Indexing"
   ]
  },
  {
   "cell_type": "markdown",
   "metadata": {},
   "source": [
    "Note that the NumPy arrays are zero-indexed:"
   ]
  },
  {
   "cell_type": "code",
   "execution_count": 74,
   "metadata": {},
   "outputs": [],
   "source": [
    "data = np.random.randn(10000, 5)"
   ]
  },
  {
   "cell_type": "code",
   "execution_count": 75,
   "metadata": {},
   "outputs": [
    {
     "data": {
      "text/plain": [
       "(10000, 5)"
      ]
     },
     "execution_count": 75,
     "metadata": {},
     "output_type": "execute_result"
    }
   ],
   "source": [
    "data.shape"
   ]
  },
  {
   "cell_type": "code",
   "execution_count": 76,
   "metadata": {},
   "outputs": [
    {
     "data": {
      "text/plain": [
       "array([[ 0.52948246,  0.58318775,  1.76409927,  0.78493224, -0.15269185],\n",
       "       [ 0.8271607 ,  0.00418193, -0.04469064,  1.07114899,  2.16079203],\n",
       "       [ 1.00175107, -0.22012566, -0.02133788,  0.15515516,  0.3639165 ],\n",
       "       ..., \n",
       "       [ 1.43916945,  0.79016407, -0.38687267, -0.07683913, -0.82112765],\n",
       "       [ 1.00890128, -0.45444848, -1.56417924,  0.60413184, -1.31234187],\n",
       "       [-0.0781389 ,  1.62742392,  0.80211904, -0.61955197, -1.40279486]])"
      ]
     },
     "execution_count": 76,
     "metadata": {},
     "output_type": "execute_result"
    }
   ],
   "source": [
    "data"
   ]
  },
  {
   "cell_type": "code",
   "execution_count": 77,
   "metadata": {},
   "outputs": [
    {
     "data": {
      "text/plain": [
       "0.52948246387824238"
      ]
     },
     "execution_count": 77,
     "metadata": {},
     "output_type": "execute_result"
    }
   ],
   "source": [
    "data[0, 0]"
   ]
  },
  {
   "cell_type": "markdown",
   "metadata": {},
   "source": [
    "It means that that the third element in the first row has an index of [0, 2]:"
   ]
  },
  {
   "cell_type": "code",
   "execution_count": 78,
   "metadata": {},
   "outputs": [
    {
     "data": {
      "text/plain": [
       "1.7640992683050323"
      ]
     },
     "execution_count": 78,
     "metadata": {},
     "output_type": "execute_result"
    }
   ],
   "source": [
    "data[0, 2]"
   ]
  },
  {
   "cell_type": "markdown",
   "metadata": {},
   "source": [
    "We can also assign the element with a new value:"
   ]
  },
  {
   "cell_type": "code",
   "execution_count": 79,
   "metadata": {},
   "outputs": [
    {
     "name": "stdout",
     "output_type": "stream",
     "text": [
      "100.0\n"
     ]
    }
   ],
   "source": [
    "data[0, 2] = 100.\n",
    "print(data[0, 2])"
   ]
  },
  {
   "cell_type": "markdown",
   "metadata": {},
   "source": [
    "NumPy (and Python in general) checks the bounds of the array:"
   ]
  },
  {
   "cell_type": "code",
   "execution_count": 80,
   "metadata": {},
   "outputs": [
    {
     "name": "stdout",
     "output_type": "stream",
     "text": [
      "(10000, 5)\n"
     ]
    },
    {
     "ename": "IndexError",
     "evalue": "index 10 is out of bounds for axis 1 with size 5",
     "output_type": "error",
     "traceback": [
      "\u001b[1;31m---------------------------------------------------------------------------\u001b[0m",
      "\u001b[1;31mIndexError\u001b[0m                                Traceback (most recent call last)",
      "\u001b[1;32m<ipython-input-80-32129d83259c>\u001b[0m in \u001b[0;36m<module>\u001b[1;34m()\u001b[0m\n\u001b[0;32m      1\u001b[0m \u001b[0mprint\u001b[0m\u001b[1;33m(\u001b[0m\u001b[0mdata\u001b[0m\u001b[1;33m.\u001b[0m\u001b[0mshape\u001b[0m\u001b[1;33m)\u001b[0m\u001b[1;33m\u001b[0m\u001b[0m\n\u001b[1;32m----> 2\u001b[1;33m \u001b[0mdata\u001b[0m\u001b[1;33m[\u001b[0m\u001b[1;36m60\u001b[0m\u001b[1;33m,\u001b[0m \u001b[1;36m10\u001b[0m\u001b[1;33m]\u001b[0m\u001b[1;33m\u001b[0m\u001b[0m\n\u001b[0m",
      "\u001b[1;31mIndexError\u001b[0m: index 10 is out of bounds for axis 1 with size 5"
     ]
    }
   ],
   "source": [
    "print(data.shape)\n",
    "data[60, 10]"
   ]
  },
  {
   "cell_type": "markdown",
   "metadata": {},
   "source": [
    "Finally, we can ask for several elements at once:"
   ]
  },
  {
   "cell_type": "code",
   "execution_count": 81,
   "metadata": {},
   "outputs": [
    {
     "data": {
      "text/plain": [
       "array([ 0.52948246,  0.78493224])"
      ]
     },
     "execution_count": 81,
     "metadata": {},
     "output_type": "execute_result"
    }
   ],
   "source": [
    "# first row; first & third column\n",
    "data[0, [0, 3]]"
   ]
  },
  {
   "cell_type": "code",
   "execution_count": 82,
   "metadata": {},
   "outputs": [
    {
     "data": {
      "text/plain": [
       "array([   0.52948246,    0.58318775,  100.        ,    0.78493224,\n",
       "         -0.15269185])"
      ]
     },
     "execution_count": 82,
     "metadata": {},
     "output_type": "execute_result"
    }
   ],
   "source": [
    "#all komponen in the first row\n",
    "data[0,:]"
   ]
  },
  {
   "cell_type": "markdown",
   "metadata": {},
   "source": [
    "You can even pass a negative index. It will go from the end of the array."
   ]
  },
  {
   "cell_type": "code",
   "execution_count": 83,
   "metadata": {},
   "outputs": [
    {
     "data": {
      "text/plain": [
       "-1.4027948598068465"
      ]
     },
     "execution_count": 83,
     "metadata": {},
     "output_type": "execute_result"
    }
   ],
   "source": [
    "data[-1, -1]"
   ]
  },
  {
   "cell_type": "code",
   "execution_count": 84,
   "metadata": {},
   "outputs": [
    {
     "data": {
      "text/plain": [
       "-1.4027948598068465"
      ]
     },
     "execution_count": 84,
     "metadata": {},
     "output_type": "execute_result"
    }
   ],
   "source": [
    "data[data.shape[0] - 1, data.shape[1] - 1]"
   ]
  },
  {
   "cell_type": "markdown",
   "metadata": {},
   "source": [
    "### Slices"
   ]
  },
  {
   "cell_type": "code",
   "execution_count": 85,
   "metadata": {},
   "outputs": [
    {
     "data": {
      "text/plain": [
       "array([[  5.29482464e-01,   5.83187751e-01,   1.00000000e+02,\n",
       "          7.84932237e-01,  -1.52691846e-01],\n",
       "       [  8.27160696e-01,   4.18192716e-03,  -4.46906353e-02,\n",
       "          1.07114899e+00,   2.16079203e+00],\n",
       "       [  1.00175107e+00,  -2.20125662e-01,  -2.13378790e-02,\n",
       "          1.55155160e-01,   3.63916504e-01],\n",
       "       ..., \n",
       "       [  1.43916945e+00,   7.90164068e-01,  -3.86872670e-01,\n",
       "         -7.68391306e-02,  -8.21127648e-01],\n",
       "       [  1.00890128e+00,  -4.54448480e-01,  -1.56417924e+00,\n",
       "          6.04131835e-01,  -1.31234187e+00],\n",
       "       [ -7.81388980e-02,   1.62742392e+00,   8.02119040e-01,\n",
       "         -6.19551968e-01,  -1.40279486e+00]])"
      ]
     },
     "execution_count": 85,
     "metadata": {},
     "output_type": "execute_result"
    }
   ],
   "source": [
    "data[0:]"
   ]
  },
  {
   "cell_type": "code",
   "execution_count": 86,
   "metadata": {},
   "outputs": [
    {
     "data": {
      "text/plain": [
       "array([[  5.29482464e-01,   5.83187751e-01,   1.00000000e+02,\n",
       "          7.84932237e-01,  -1.52691846e-01],\n",
       "       [  8.27160696e-01,   4.18192716e-03,  -4.46906353e-02,\n",
       "          1.07114899e+00,   2.16079203e+00],\n",
       "       [  1.00175107e+00,  -2.20125662e-01,  -2.13378790e-02,\n",
       "          1.55155160e-01,   3.63916504e-01],\n",
       "       ..., \n",
       "       [  1.43916945e+00,   7.90164068e-01,  -3.86872670e-01,\n",
       "         -7.68391306e-02,  -8.21127648e-01],\n",
       "       [  1.00890128e+00,  -4.54448480e-01,  -1.56417924e+00,\n",
       "          6.04131835e-01,  -1.31234187e+00],\n",
       "       [ -7.81388980e-02,   1.62742392e+00,   8.02119040e-01,\n",
       "         -6.19551968e-01,  -1.40279486e+00]])"
      ]
     },
     "execution_count": 86,
     "metadata": {},
     "output_type": "execute_result"
    }
   ],
   "source": [
    "data"
   ]
  },
  {
   "cell_type": "markdown",
   "metadata": {},
   "source": [
    "You can select ranges of elements using slices. To select first two columns from the first row, you can use:"
   ]
  },
  {
   "cell_type": "code",
   "execution_count": 87,
   "metadata": {},
   "outputs": [
    {
     "data": {
      "text/plain": [
       "array([ 0.52948246,  0.58318775])"
      ]
     },
     "execution_count": 87,
     "metadata": {},
     "output_type": "execute_result"
    }
   ],
   "source": [
    "data[0, 0:2]"
   ]
  },
  {
   "cell_type": "markdown",
   "metadata": {},
   "source": [
    "Note that the returned array does not include third column (with index 2).\n",
    "\n",
    "You can skip the first or last index (which means, take the values from the beginning or to the end):"
   ]
  },
  {
   "cell_type": "code",
   "execution_count": 88,
   "metadata": {},
   "outputs": [
    {
     "data": {
      "text/plain": [
       "array([ 0.52948246,  0.58318775])"
      ]
     },
     "execution_count": 88,
     "metadata": {},
     "output_type": "execute_result"
    }
   ],
   "source": [
    "# just return the same \n",
    "\n",
    "data[0, :2]"
   ]
  },
  {
   "cell_type": "markdown",
   "metadata": {},
   "source": [
    "If you omit both indices in the slice leaving out only the colon (:), you will get all columns of this row:"
   ]
  },
  {
   "cell_type": "code",
   "execution_count": 89,
   "metadata": {},
   "outputs": [
    {
     "data": {
      "text/plain": [
       "array([   0.52948246,    0.58318775,  100.        ,    0.78493224,\n",
       "         -0.15269185])"
      ]
     },
     "execution_count": 89,
     "metadata": {},
     "output_type": "execute_result"
    }
   ],
   "source": [
    "data[0, :]"
   ]
  },
  {
   "cell_type": "code",
   "execution_count": 90,
   "metadata": {},
   "outputs": [
    {
     "data": {
      "text/plain": [
       "array([[-1.44194085],\n",
       "       [-0.18625943],\n",
       "       [-0.27511121],\n",
       "       [-0.47864625],\n",
       "       [ 0.42705962]])"
      ]
     },
     "execution_count": 90,
     "metadata": {},
     "output_type": "execute_result"
    }
   ],
   "source": [
    "# row: 6 to 11\n",
    "# column: 5 to 7\n",
    "\n",
    "# Why only return one colum?\n",
    "\n",
    "data[5:10,4:6]"
   ]
  },
  {
   "cell_type": "markdown",
   "metadata": {},
   "source": [
    "### Filtering data"
   ]
  },
  {
   "cell_type": "code",
   "execution_count": 91,
   "metadata": {},
   "outputs": [
    {
     "data": {
      "text/plain": [
       "array([[  5.29482464e-01,   5.83187751e-01,   1.00000000e+02,\n",
       "          7.84932237e-01,  -1.52691846e-01],\n",
       "       [  8.27160696e-01,   4.18192716e-03,  -4.46906353e-02,\n",
       "          1.07114899e+00,   2.16079203e+00],\n",
       "       [  1.00175107e+00,  -2.20125662e-01,  -2.13378790e-02,\n",
       "          1.55155160e-01,   3.63916504e-01],\n",
       "       ..., \n",
       "       [  1.43916945e+00,   7.90164068e-01,  -3.86872670e-01,\n",
       "         -7.68391306e-02,  -8.21127648e-01],\n",
       "       [  1.00890128e+00,  -4.54448480e-01,  -1.56417924e+00,\n",
       "          6.04131835e-01,  -1.31234187e+00],\n",
       "       [ -7.81388980e-02,   1.62742392e+00,   8.02119040e-01,\n",
       "         -6.19551968e-01,  -1.40279486e+00]])"
      ]
     },
     "execution_count": 91,
     "metadata": {},
     "output_type": "execute_result"
    }
   ],
   "source": [
    "data"
   ]
  },
  {
   "cell_type": "markdown",
   "metadata": {},
   "source": [
    "We can produce a boolean array when using comparison operators."
   ]
  },
  {
   "cell_type": "code",
   "execution_count": 92,
   "metadata": {},
   "outputs": [
    {
     "data": {
      "text/plain": [
       "array([[ True,  True,  True,  True, False],\n",
       "       [ True,  True, False,  True,  True],\n",
       "       [ True, False, False,  True,  True],\n",
       "       ..., \n",
       "       [ True,  True, False, False, False],\n",
       "       [ True, False, False,  True, False],\n",
       "       [False,  True,  True, False, False]], dtype=bool)"
      ]
     },
     "execution_count": 92,
     "metadata": {},
     "output_type": "execute_result"
    }
   ],
   "source": [
    "data > 0"
   ]
  },
  {
   "cell_type": "code",
   "execution_count": 71,
   "metadata": {},
   "outputs": [
    {
     "data": {
      "text/plain": [
       "array([[        inf,         inf,         inf, -0.90731204, -0.60869981],\n",
       "       [        inf,         inf, -1.56803863,         inf,         inf],\n",
       "       [        inf, -2.22760019, -0.68225274, -2.14452059,         inf],\n",
       "       ..., \n",
       "       [-0.93365254,         inf, -0.36896878,         inf,         inf],\n",
       "       [-1.14122779,         inf,         inf,         inf,         inf],\n",
       "       [        inf, -0.24636057,         inf, -0.05052232, -0.0825617 ]])"
      ]
     },
     "execution_count": 71,
     "metadata": {},
     "output_type": "execute_result"
    }
   ],
   "source": [
    "data[data > 0]\n",
    "data"
   ]
  },
  {
   "cell_type": "code",
   "execution_count": 93,
   "metadata": {},
   "outputs": [
    {
     "data": {
      "text/plain": [
       "array([   0.52948246,    0.58318775,  100.        , ...,    0.60413184,\n",
       "          1.62742392,    0.80211904])"
      ]
     },
     "execution_count": 93,
     "metadata": {},
     "output_type": "execute_result"
    }
   ],
   "source": [
    "data[data > 0]"
   ]
  },
  {
   "cell_type": "markdown",
   "metadata": {},
   "source": [
    "This mask can be used to select some specific data."
   ]
  },
  {
   "cell_type": "code",
   "execution_count": 94,
   "metadata": {},
   "outputs": [
    {
     "data": {
      "text/plain": [
       "array([   0.52948246,    0.58318775,  100.        , ...,    0.60413184,\n",
       "          1.62742392,    0.80211904])"
      ]
     },
     "execution_count": 94,
     "metadata": {},
     "output_type": "execute_result"
    }
   ],
   "source": [
    "data[data > 0]"
   ]
  },
  {
   "cell_type": "markdown",
   "metadata": {},
   "source": [
    "It can also be used to affect some new values"
   ]
  },
  {
   "cell_type": "code",
   "execution_count": 95,
   "metadata": {},
   "outputs": [
    {
     "data": {
      "text/plain": [
       "array([[        inf,         inf,         inf,         inf, -0.15269185],\n",
       "       [        inf,         inf, -0.04469064,         inf,         inf],\n",
       "       [        inf, -0.22012566, -0.02133788,         inf,         inf],\n",
       "       ..., \n",
       "       [        inf,         inf, -0.38687267, -0.07683913, -0.82112765],\n",
       "       [        inf, -0.45444848, -1.56417924,         inf, -1.31234187],\n",
       "       [-0.0781389 ,         inf,         inf, -0.61955197, -1.40279486]])"
      ]
     },
     "execution_count": 95,
     "metadata": {},
     "output_type": "execute_result"
    }
   ],
   "source": [
    "data[data > 0] = np.inf\n",
    "data"
   ]
  },
  {
   "cell_type": "markdown",
   "metadata": {},
   "source": [
    "### Exercise\n"
   ]
  },
  {
   "cell_type": "markdown",
   "metadata": {},
   "source": [
    "Answer the following quizz:\n",
    "\n",
    "* Print the element in the $1^{st}$ row and $10^{th}$ cloumn of the data.\n",
    "* Print the elements in the $3^{rd}$ row and columns of $3^{rd}$ and $15^{th}$.\n",
    "* Print the elements in the $4^{th}$ row and columns from $3^{rd}$ t0 $15^{th}$.\n",
    "* Print all the elements in column $15$ which their value is above 0."
   ]
  },
  {
   "cell_type": "code",
   "execution_count": 37,
   "metadata": {
    "scrolled": true
   },
   "outputs": [
    {
     "data": {
      "text/plain": [
       "array([[-0.98579014,  0.71285649, -0.54718277, -1.33748453, -0.18435618,\n",
       "        -0.8933623 ,  1.62509855,  0.46285775, -1.21292224,  0.15102983,\n",
       "         1.00200702, -1.19381217,  1.09023339, -0.70078358,  0.09383393],\n",
       "       [ 1.40129709,  0.11409875,  0.48874565,  1.24156492,  0.66321705,\n",
       "        -0.27889724, -0.69102008, -0.90657761,  1.64619303,  1.87243815,\n",
       "        -1.15619611,  0.88081183,  0.62907187,  0.72733194, -0.30792412],\n",
       "       [-0.36635495, -0.2736111 ,  0.55862641, -1.14570109, -0.83600969,\n",
       "        -0.33812298, -0.23548878,  2.82714969,  0.80404457,  0.42086566,\n",
       "        -0.24568491, -0.59850961,  1.36516073, -0.40759342,  0.46524453],\n",
       "       [ 0.20595172,  0.35817142,  0.33660776, -1.44338523, -1.55000909,\n",
       "        -0.05898432, -0.93267859, -0.25306365, -0.68645742, -1.66386012,\n",
       "         0.3084164 ,  0.86781361,  1.86189104,  0.69508398,  1.00420123],\n",
       "       [ 0.20617345,  1.66168026, -0.58683074,  1.63568712, -0.49738069,\n",
       "         0.07778555, -0.3683516 , -0.4105672 , -1.10524124, -0.33848666,\n",
       "        -0.90002857, -0.90260716,  1.3414219 ,  0.74002624, -1.68652595],\n",
       "       [ 1.61942264, -0.20874582,  0.48917775, -0.97528396, -0.3846669 ,\n",
       "         0.96719464,  1.10978877, -1.21369552,  0.6702166 ,  0.17063994,\n",
       "        -0.19328672,  0.88044113,  1.24424648,  0.36037368, -0.0679183 ],\n",
       "       [-0.37849763,  1.62183858,  0.64110928,  0.09015227,  1.02491359,\n",
       "        -0.98509099,  1.81623337,  0.60094462,  0.23664178, -0.09128655,\n",
       "         2.55530362,  0.23913034,  0.27716709,  0.49511446, -0.65629679],\n",
       "       [ 0.17272382,  0.68359464, -0.3567374 ,  1.64916889, -1.20224499,\n",
       "        -0.04663449, -0.74685207, -0.15759312,  1.80423469, -1.90832894,\n",
       "         1.87905879, -0.99247436, -0.76733225,  0.84826689,  0.17994333],\n",
       "       [ 1.24875932,  0.4035023 , -0.36446906,  0.11117539,  1.11274358,\n",
       "        -0.39501612,  0.53119812,  0.68653439, -1.7557357 ,  0.13838727,\n",
       "        -1.88220777, -0.21455151,  0.5283852 ,  0.02100552, -1.13239189],\n",
       "       [ 1.55392762, -1.63570335, -0.37351796,  0.48217052, -0.52901246,\n",
       "         0.60372725,  0.96412313,  1.20918585,  1.09762359,  0.78661598,\n",
       "         1.29506553, -0.35632895, -0.94421175, -1.19081143, -0.31266494]])"
      ]
     },
     "execution_count": 37,
     "metadata": {},
     "output_type": "execute_result"
    }
   ],
   "source": [
    "import numpy as np\n",
    "\n",
    "data = np.random.randn(10, 15)\n",
    "\n",
    "data"
   ]
  },
  {
   "cell_type": "code",
   "execution_count": 38,
   "metadata": {},
   "outputs": [
    {
     "data": {
      "text/plain": [
       "0.15102983166502337"
      ]
     },
     "execution_count": 38,
     "metadata": {},
     "output_type": "execute_result"
    }
   ],
   "source": [
    "data[0, 9]"
   ]
  },
  {
   "cell_type": "code",
   "execution_count": 39,
   "metadata": {},
   "outputs": [
    {
     "data": {
      "text/plain": [
       "0.558626414406123"
      ]
     },
     "execution_count": 39,
     "metadata": {},
     "output_type": "execute_result"
    }
   ],
   "source": [
    "data[2, 2]"
   ]
  },
  {
   "cell_type": "code",
   "execution_count": 40,
   "metadata": {},
   "outputs": [
    {
     "data": {
      "text/plain": [
       "array([ 0.33660776, -1.44338523, -1.55000909, -0.05898432, -0.93267859,\n",
       "       -0.25306365, -0.68645742, -1.66386012,  0.3084164 ,  0.86781361,\n",
       "        1.86189104,  0.69508398,  1.00420123])"
      ]
     },
     "execution_count": 40,
     "metadata": {},
     "output_type": "execute_result"
    }
   ],
   "source": [
    "data[3, 2:]"
   ]
  },
  {
   "cell_type": "code",
   "execution_count": 43,
   "metadata": {},
   "outputs": [
    {
     "data": {
      "text/plain": [
       "array([0.09383393, 0.46524453, 1.00420123, 0.17994333])"
      ]
     },
     "execution_count": 43,
     "metadata": {},
     "output_type": "execute_result"
    }
   ],
   "source": [
    "row15 = data[:, 14]\n",
    "data = row15[row15 > 0]\n",
    "data"
   ]
  },
  {
   "cell_type": "markdown",
   "metadata": {},
   "source": [
    "### Broadcasting"
   ]
  },
  {
   "cell_type": "markdown",
   "metadata": {},
   "source": [
    "Broadcasting applies these three rules:\n",
    "\n",
    "* If the two arrays differ in their number of dimensions, the shape of the array with fewer dimensions is padded with ones on its leading (left) side.\n",
    "\n",
    "* If the shape of the two arrays does not match in any dimension, either array with shape equal to 1 in a given dimension is stretched to match the other shape.\n",
    "\n",
    "* If in any dimension the sizes disagree and neither has shape equal to 1, an error is raised.\n",
    "\n",
    "Note that all of this happens without ever actually creating the expanded arrays in memory! This broadcasting behavior is in practice enormously powerful, especially given that when NumPy broadcasts to create new dimensions or to 'stretch' existing ones, it doesn't actually duplicate the data. In the example above the operation is carried out as if the scalar 1.5 was a 1D array with 1.5 in all of its entries, but no actual array is ever created. This can save lots of memory in cases when the arrays in question are large. As such this can have significant performance implications."
   ]
  },
  {
   "cell_type": "markdown",
   "metadata": {},
   "source": [
    "<img src=\"broadcasting.png\">"
   ]
  },
  {
   "cell_type": "markdown",
   "metadata": {},
   "source": [
    "Replicate the above exercises. In addition, how would you make the matrix multiplication between 2 matrices."
   ]
  },
  {
   "cell_type": "code",
   "execution_count": 83,
   "metadata": {},
   "outputs": [],
   "source": [
    "X = np.random.random((1, 3))\n",
    "Y = np.random.random((3, 5))"
   ]
  },
  {
   "cell_type": "code",
   "execution_count": 86,
   "metadata": {},
   "outputs": [
    {
     "name": "stdout",
     "output_type": "stream",
     "text": [
      "[[0.18658864 0.22357099 0.56853828]]\n"
     ]
    }
   ],
   "source": [
    "print(X)"
   ]
  },
  {
   "cell_type": "code",
   "execution_count": 87,
   "metadata": {},
   "outputs": [
    {
     "name": "stdout",
     "output_type": "stream",
     "text": [
      "[[0.15221364 0.18643145 0.35855849 0.75979947 0.74246642]\n",
      " [0.21230611 0.24940945 0.34911197 0.95378501 0.33447434]\n",
      " [0.76824526 0.22752684 0.45011218 0.88908441 0.94861069]]\n"
     ]
    }
   ],
   "source": [
    "print(Y)"
   ]
  },
  {
   "cell_type": "markdown",
   "metadata": {},
   "source": [
    "kode berikut akan error"
   ]
  },
  {
   "cell_type": "code",
   "execution_count": 88,
   "metadata": {},
   "outputs": [
    {
     "ename": "ValueError",
     "evalue": "operands could not be broadcast together with shapes (1,3) (3,5) ",
     "output_type": "error",
     "traceback": [
      "\u001b[0;31m---------------------------------------------------------------------------\u001b[0m",
      "\u001b[0;31mValueError\u001b[0m                                Traceback (most recent call last)",
      "\u001b[0;32m<ipython-input-88-c6c375f45737>\u001b[0m in \u001b[0;36m<module>\u001b[0;34m()\u001b[0m\n\u001b[0;32m----> 1\u001b[0;31m \u001b[0mX\u001b[0m \u001b[0;34m*\u001b[0m \u001b[0mY\u001b[0m\u001b[0;34m\u001b[0m\u001b[0m\n\u001b[0m",
      "\u001b[0;31mValueError\u001b[0m: operands could not be broadcast together with shapes (1,3) (3,5) "
     ]
    }
   ],
   "source": [
    "X * Y"
   ]
  },
  {
   "cell_type": "code",
   "execution_count": 90,
   "metadata": {},
   "outputs": [
    {
     "name": "stdout",
     "output_type": "stream",
     "text": [
      "[[0.51264366 0.21990442 0.40086025 0.86048713 0.75263605]]\n"
     ]
    }
   ],
   "source": [
    "Z = np.dot(X, Y)\n",
    "print(Z)"
   ]
  },
  {
   "cell_type": "code",
   "execution_count": 91,
   "metadata": {},
   "outputs": [
    {
     "data": {
      "text/plain": [
       "(1, 5)"
      ]
     },
     "execution_count": 91,
     "metadata": {},
     "output_type": "execute_result"
    }
   ],
   "source": [
    "Z.shape"
   ]
  },
  {
   "cell_type": "markdown",
   "metadata": {},
   "source": [
    "### Views on Arrays\n",
    "\n",
    "NumPy attempts to not make copies of arrays. \n",
    "Many NumPy operations will produce a reference to an existing array, known as a \"view\", instead of making a whole new array. \n",
    "For example, indexing and reshaping provide a view of the same memory wherever possible.\n"
   ]
  },
  {
   "cell_type": "code",
   "execution_count": 93,
   "metadata": {},
   "outputs": [
    {
     "name": "stdout",
     "output_type": "stream",
     "text": [
      "Before\n",
      " [[0 1 2 3]\n",
      " [4 5 6 7]]\n"
     ]
    }
   ],
   "source": [
    "arr = np.arange(8)\n",
    "arr_view = arr.reshape(2, 4)\n",
    "\n",
    "# Print the \"view\" array from reshape.\n",
    "print('Before\\n', arr_view)\n"
   ]
  },
  {
   "cell_type": "code",
   "execution_count": 94,
   "metadata": {},
   "outputs": [
    {
     "name": "stdout",
     "output_type": "stream",
     "text": [
      "After\n",
      " [[1000    1    2    3]\n",
      " [   4    5    6    7]]\n"
     ]
    }
   ],
   "source": [
    "\n",
    "\n",
    "# Update the first element of the original array.\n",
    "arr[0] = 1000\n",
    "\n",
    "# Print the \"view\" array from reshape again,\n",
    "# noticing the first value has changed.\n",
    "print('After\\n', arr_view)"
   ]
  },
  {
   "cell_type": "code",
   "execution_count": 95,
   "metadata": {},
   "outputs": [
    {
     "name": "stdout",
     "output_type": "stream",
     "text": [
      "Before\n",
      " [[0 1 2 3]\n",
      " [4 5 6 7]]\n",
      "After\n",
      " [[1000    1    2    3]\n",
      " [   4    5    6    7]]\n"
     ]
    }
   ],
   "source": [
    "arr = np.arange(8)\n",
    "arr_view = arr.reshape(2, 4)\n",
    "\n",
    "# Print the \"view\" array from reshape.\n",
    "print('Before\\n', arr_view)\n",
    "\n",
    "# Update the first element of the original array.\n",
    "arr[0] = 1000\n",
    "\n",
    "# Print the \"view\" array from reshape again,\n",
    "# noticing the first value has changed.\n",
    "print('After\\n', arr_view)"
   ]
  },
  {
   "cell_type": "markdown",
   "metadata": {},
   "source": [
    "What this means is that if one array (`arr`) is modified, the other (`arr_view`) will also be updated : the same memory is being shared. This is a valuable tool which enables the system memory overhead to be managed, which is particularly useful when handling lots of large arrays. The lack of copying allows for very efficient vectorized operations.\n",
    "\n",
    "Remember, this behaviour is automatic in most of NumPy, so it requires some consideration in your code, it can lead to some bugs that are hard to track down. For example, if you are changing some elements of an array that you are using elsewhere, you may want to explicitly copy that array before making changes. If in doubt, you can always copy the data to a different block of memory with the copy() method.\n",
    "\n",
    "For example:"
   ]
  },
  {
   "cell_type": "code",
   "execution_count": 97,
   "metadata": {},
   "outputs": [
    {
     "name": "stdout",
     "output_type": "stream",
     "text": [
      "Before\n",
      " [[0 1 2 3]\n",
      " [4 5 6 7]]\n",
      "After\n",
      " [1000    1    2    3    4    5    6    7]\n"
     ]
    }
   ],
   "source": [
    "# kedua array akan berubah !!\n",
    "\n",
    "arr = np.arange(8)\n",
    "arr_view = arr.reshape(2, 4).copy()\n",
    "\n",
    "# Print the \"view\" array from reshape.\n",
    "print('Before\\n', arr_view)\n",
    "\n",
    "# Update the first element of the original array.\n",
    "arr[0] = 1000\n",
    "\n",
    "# Print the \"view\" array from reshape again,\n",
    "# noticing the first value has changed.\n",
    "print('After\\n', arr)"
   ]
  },
  {
   "cell_type": "markdown",
   "metadata": {},
   "source": [
    "### Exercise\n"
   ]
  },
  {
   "cell_type": "markdown",
   "metadata": {},
   "source": [
    "#### Part 1\n",
    "\n",
    "Create two arrays $x$\n",
    "and $y$, where $x$ is a linearly spaced array in the interval $[0,3]$ of length 3000, and y represents the function $f(x)=x^2$ sampled at $x$\n",
    "\n",
    "#### Part 2\n",
    "\n",
    "Use indexing (not a for loop) to find the 10 values representing $y_i+y_{i−1}$\n",
    "for i between 1 and 11.\n",
    "\n",
    "Hint: What indexing would be needed to get all but the last element of the 1d array `y`. Similarly what indexing would be needed to get all but the first element of a 1d array.\n",
    "\n",
    "#### Part 3\n",
    "\n",
    "Write a function `trapz(x, y)`, that applies the trapezoid formula to pre-computed values, where x and y are 1-d arrays. The function should not use a for loop.\n",
    "\n",
    "#### Part 4\n",
    "\n",
    "Verify that your function is correct by using the arrays created in #1 as input to trapz. Your answer should be a close approximation of $\\sum 30 x^2$ which is 9\n",
    "\n",
    "#### Part 5 (extension)\n",
    "\n",
    "`numpy` and `scipy.integrate` provide many common integration schemes. Find the documentation for NumPy's own version of the trapezoidal integration scheme and check its result with your own."
   ]
  },
  {
   "cell_type": "code",
   "execution_count": null,
   "metadata": {},
   "outputs": [],
   "source": []
  }
 ],
 "metadata": {
  "kernelspec": {
   "display_name": "Python 3",
   "language": "python",
   "name": "python3"
  },
  "language_info": {
   "codemirror_mode": {
    "name": "ipython",
    "version": 3
   },
   "file_extension": ".py",
   "mimetype": "text/x-python",
   "name": "python",
   "nbconvert_exporter": "python",
   "pygments_lexer": "ipython3",
   "version": "3.6.5"
  }
 },
 "nbformat": 4,
 "nbformat_minor": 2
}
